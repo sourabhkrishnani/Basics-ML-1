{
  "nbformat": 4,
  "nbformat_minor": 0,
  "metadata": {
    "colab": {
      "provenance": []
    },
    "kernelspec": {
      "name": "python3",
      "display_name": "Python 3"
    },
    "language_info": {
      "name": "python"
    }
  },
  "cells": [
    {
      "cell_type": "markdown",
      "source": [
        "### Q1"
      ],
      "metadata": {
        "id": "PSDcI9eFZK9M"
      }
    },
    {
      "cell_type": "markdown",
      "source": [
        "#1. Artificial Intelligence (AI):\n",
        "Definition:\n",
        "\n",
        "AI refers to the simulation of human intelligence in machines. These machines are programmed to think, learn, and make decisions like humans to solve problems.\n",
        "\n",
        "Example:\n",
        "\n",
        "Chatbots: AI-powered chatbots like ChatGPT can understand text inputs and provide human-like responses.\n",
        "\n",
        "Self-driving Cars: AI systems analyze data from sensors to make decisions about steering, acceleration, and braking."
      ],
      "metadata": {
        "id": "s9vUj3FRZLAB"
      }
    },
    {
      "cell_type": "markdown",
      "source": [
        "#2. Machine Learning (ML):\n",
        "Definition:\n",
        "\n",
        "ML is a subset of AI that involves training algorithms to learn patterns from data and make predictions or decisions without being explicitly programmed.\n",
        "\n",
        "Example:\n",
        "\n",
        "Spam Email Filtering: An ML algorithm analyzes email features to classify them as spam or not based on past labeled data.\n",
        "Process:\n",
        "\n",
        "Provide historical data (emails labeled as spam or not spam).\n",
        "Train an ML model to identify patterns.\n",
        "Use the model to predict for new emails."
      ],
      "metadata": {
        "id": "3geu1LzmZLCq"
      }
    },
    {
      "cell_type": "markdown",
      "source": [
        "#3. Deep Learning (DL):\n",
        "Definition:\n",
        "\n",
        "DL is a subset of ML that uses neural networks with multiple layers to learn complex patterns and representations from large amounts of data.\n",
        "\n",
        "Example:\n",
        "\n",
        "Image Recognition: A deep learning model can classify images of cats and dogs by learning hierarchical features like edges, shapes, and textures.\n",
        "How it works:\n",
        "\n",
        "An image (e.g., a cat) is fed to a convolutional neural network (CNN).\n",
        "The network extracts features at multiple layers.\n",
        "The model predicts the class (e.g., \"cat\")."
      ],
      "metadata": {
        "id": "8kDM0xP9ZLFN"
      }
    },
    {
      "cell_type": "markdown",
      "source": [
        "### Q2"
      ],
      "metadata": {
        "id": "7GNsJ3PRZLI0"
      }
    },
    {
      "cell_type": "markdown",
      "source": [
        "Supervised learning is a type of machine learning where a model is trained using labeled data. In this approach, the input data (features) and the corresponding correct output (labels) are provided, enabling the model to learn the mapping between inputs and outputs. The goal is for the model to predict the output for new, unseen data accurately."
      ],
      "metadata": {
        "id": "ice1wExdaRLD"
      }
    },
    {
      "cell_type": "markdown",
      "source": [
        "#How It Works:\n",
        "Training Data: Contains both inputs (features) and outputs (labels).\n",
        "\n",
        "Example: A dataset with house features (size, number of bedrooms) and their corresponding prices.\n",
        "\n",
        "Model Training: The model learns patterns in the data by minimizing the error between predictions and actual outputs.\n",
        "\n",
        "Prediction: After training, the model can predict the output for new inputs."
      ],
      "metadata": {
        "id": "mAeYuzXSaROD"
      }
    },
    {
      "cell_type": "markdown",
      "source": [
        "Examples of Supervised Learning:\n",
        "1. Classification:\n",
        "\n",
        "Predicting a category or class label.\n",
        "\n",
        "Email Spam Detection: Classifying emails as spam or not spam.\n",
        "\n",
        "Image Recognition: Identifying if an image contains a cat or a dog.\n",
        "\n",
        "Sentiment Analysis: Classifying a movie review as positive or negative.\n",
        "\n",
        "2. Regression:\n",
        "\n",
        "Predicting a continuous value.\n",
        "\n",
        "House Price Prediction: Estimating house prices based on size, location, etc.\n",
        "\n",
        "Stock Price Prediction: Forecasting stock prices based on historical data.\n",
        "\n",
        "Sales Forecasting: Predicting future sales based on past trends."
      ],
      "metadata": {
        "id": "6K5qeZf9aRQk"
      }
    },
    {
      "cell_type": "markdown",
      "source": [
        "### Q3"
      ],
      "metadata": {
        "id": "gSHVgHp-aRTK"
      }
    },
    {
      "cell_type": "markdown",
      "source": [
        "Unsupervised learning is a type of machine learning where the model is trained on data without labeled outputs. The goal is to identify patterns, structures, or relationships in the data. Unlike supervised learning, there are no predefined labels or target outputs, and the model learns solely from the input data.\n",
        "\n",
        "#How It Works:\n",
        "\n",
        "Input Data: Contains features but no corresponding labels or target values.\n",
        "\n",
        "Model Objective: The model explores the data to identify hidden patterns or groupings.\n",
        "\n",
        "Output: Insights about the structure of the data (e.g., clusters, associations, or anomalies).\n"
      ],
      "metadata": {
        "id": "y9J6dtFlaRWf"
      }
    },
    {
      "cell_type": "markdown",
      "source": [
        "#Examples of Unsupervised Learning:\n",
        "1. Clustering:\n",
        "\n",
        "Grouping data points into distinct clusters based on similarity.\n",
        "\n",
        "Customer Segmentation: Grouping customers based on purchasing behavior for targeted marketing.\n",
        "\n",
        "Social Network Analysis: Identifying communities or groups in social networks.\n",
        "\n",
        "Document Clustering: Grouping similar news articles or research papers.\n",
        "2. Dimensionality Reduction:\n",
        "\n",
        "Reducing the number of features while preserving important information.\n",
        "\n",
        "Principal Component Analysis (PCA): Used to visualize high-dimensional data.\n",
        "\n",
        "Feature Selection: Extracting the most important features for a model.\n",
        "3. Anomaly Detection:\n",
        "\n",
        "Identifying unusual data points that don't conform to the general pattern.\n",
        "\n",
        "Fraud Detection: Detecting fraudulent transactions in a dataset.\n",
        "\n",
        "Fault Detection: Identifying machine failures in industrial equipment.\n",
        "4. Association Rules:\n",
        "\n",
        "Finding relationships between variables in a dataset.\n",
        "\n",
        "Market Basket Analysis: Identifying products frequently bought together (e.g., milk and bread).\n",
        "Recommender Systems: Suggesting products based on association rules.\n"
      ],
      "metadata": {
        "id": "4U9112mFb1_G"
      }
    },
    {
      "cell_type": "markdown",
      "source": [
        "### Q4"
      ],
      "metadata": {
        "id": "iCyca6W1b2Br"
      }
    },
    {
      "cell_type": "markdown",
      "source": [
        "#1. Artificial Intelligence (AI)\n",
        "#What is it?\n",
        "AI is the science of creating systems that mimic human intelligence to perform tasks like reasoning, problem-solving, and decision-making.\n",
        "\n",
        "#Key Purpose:\n",
        "Enable machines to think and act intelligently.\n",
        "\n",
        "Examples:\n",
        "\n",
        "Virtual assistants like Siri and Alexa.\n",
        "\n",
        "Autonomous systems like self-driving cars.\n",
        "#2. Machine Learning (ML)\n",
        "#What is it?\n",
        "ML is a subset of AI where machines learn patterns from data to make decisions or predictions without being explicitly programmed.\n",
        "\n",
        "#Key Purpose:\n",
        "Learn from data to improve performance over time.\n",
        "\n",
        "Examples:\n",
        "\n",
        "Netflix recommending shows based on viewing history.\n",
        "\n",
        "Spam filters identifying unwanted emails.\n",
        "#3. Deep Learning (DL)\n",
        "#What is it?\n",
        "DL is a specialized subset of ML that uses neural networks with many layers to process large amounts of complex data like images, audio, or video.\n",
        "\n",
        "#Key Purpose:\n",
        "Handle unstructured data and extract high-level patterns.\n",
        "\n",
        "Examples:\n",
        "\n",
        "Image recognition systems that identify objects like cats or cars.\n",
        "\n",
        "Speech-to-text systems used by voice assistants.\n",
        "#4. Data Science (DS)\n",
        "#What is it?\n",
        "DS is the practice of analyzing, processing, and interpreting data to extract meaningful insights using statistical methods, ML, and domain expertise.\n",
        "\n",
        "#Key Purpose:\n",
        "Solve real-world problems and drive data-driven decisions.\n",
        "\n",
        "Examples:\n",
        "\n",
        "Analyzing customer buying patterns for targeted marketing.\n",
        "\n",
        "Predicting trends in stock markets or sales performance."
      ],
      "metadata": {
        "id": "DWbs_iF3b2EL"
      }
    },
    {
      "cell_type": "markdown",
      "source": [
        "### Q5"
      ],
      "metadata": {
        "id": "osmCHAGbb2G0"
      }
    },
    {
      "cell_type": "markdown",
      "source": [
        "#1. Supervised Learning\n",
        "#Definition:\n",
        "The model is trained using labeled data, where each input has a corresponding target/output.\n",
        "#Goal:\n",
        "Learn a mapping from inputs to outputs to make accurate predictions on unseen data.\n",
        "#Data Requirements:\n",
        "Requires a fully labeled dataset.\n",
        "#Examples:\n",
        "Predicting house prices (regression).\n",
        "\n",
        "Classifying emails as spam or not spam (classification).\n",
        "#Algorithms:\n",
        "Linear Regression, Logistic Regression.\n",
        "Support Vector Machines (SVM), Neural Networks.\n",
        "#2. Unsupervised Learning\n",
        "Definition:\n",
        "The model is trained on data without any labels, aiming to identify patterns or structures.\n",
        "#Goal:\n",
        "Discover hidden patterns, groupings, or relationships in the data.\n",
        "#Data Requirements:\n",
        "Uses an unlabeled dataset.\n",
        "#Examples:\n",
        "Customer segmentation (clustering).\n",
        "\n",
        "Dimensionality reduction (PCA).\n",
        "#Algorithms:\n",
        "K-Means, Hierarchical Clustering.\n",
        "\n",
        "Principal Component Analysis (PCA), DBSCAN.\n",
        "#3. Semi-Supervised Learning\n",
        "#Definition:\n",
        "A hybrid approach where the model is trained on a small amount of labeled data and a larger amount of unlabeled data.\n",
        "#Goal:\n",
        "Leverage the unlabeled data to improve the model's performance when labeled data is limited.\n",
        "#Data Requirements:\n",
        "Requires both labeled and unlabeled data, with the labeled data often being much smaller.\n",
        "#Examples:\n",
        "Fraud detection (a few fraudulent transactions labeled, many unlabeled).\n",
        "\n",
        "Text classification with limited labeled documents.\n",
        "#Algorithms:\n",
        "Self-training, Co-training.\n",
        "\n",
        "Semi-supervised Support Vector Machines (S3VM)."
      ],
      "metadata": {
        "id": "PIwK0SChb2KP"
      }
    },
    {
      "cell_type": "markdown",
      "source": [
        "### Q6"
      ],
      "metadata": {
        "id": "6-1Ldi3ceVe5"
      }
    },
    {
      "cell_type": "markdown",
      "source": [
        "#1. Training Set\n",
        "#Definition:\n",
        "The portion of the dataset used to train the model, i.e., to learn patterns, weights, or parameters from the data.\n",
        "\n",
        "#Importance:\n",
        "\n",
        "The model uses this data to learn the relationships between input features and the target/output.\n",
        "\n",
        "Overfitting can occur if the model memorizes instead of learning general patterns.\n",
        "#Example Usage:\n",
        "\n",
        "In supervised learning, the model adjusts its parameters (e.g., weights in a neural network) based on this data.\n",
        "#2. Validation Set\n",
        "#Definition:\n",
        "A separate subset of data used to tune model hyperparameters (e.g., learning rate, depth of a tree, or number of layers in a neural network) and monitor the model's performance during training.\n",
        "\n",
        "#Importance:\n",
        "\n",
        "Helps prevent overfitting by providing an unbiased evaluation of the model at each iteration or epoch.\n",
        "\n",
        "Used to fine-tune hyperparameters without relying on the test set.\n",
        "\n",
        "Ensures the model performs well on data it has not been trained on.\n",
        "#Example Usage:\n",
        "\n",
        "Choosing the best value for the learning rate or the number of hidden layers in a neural network.\n",
        "#3. Test Set\n",
        "#Definition:\n",
        "A completely independent subset of data used only after the model is trained and validated to evaluate its final performance.\n",
        "\n",
        "#Importance:\n",
        "\n",
        "Provides an unbiased estimate of the model’s performance on unseen data.\n",
        "\n",
        "Ensures the model's ability to generalize well to real-world scenarios.\n",
        "#Example Usage:\n",
        "\n",
        "Evaluating metrics like accuracy, precision, recall, F1-score, or RMSE to measure how well the model performs on unseen data."
      ],
      "metadata": {
        "id": "4vsT5NZ9eViB"
      }
    },
    {
      "cell_type": "markdown",
      "source": [
        "#Typical Split Ratios\n",
        "Training: 70-80% of the dataset.\n",
        "\n",
        "Validation: 10-15% of the dataset.\n",
        "\n",
        "Test: 10-15% of the dataset.\n",
        "#Why Are These Splits Important?\n",
        "Training Set: Helps the model learn patterns in the data.\n",
        "\n",
        "Validation Set: Prevents overfitting and aids in hyperparameter tuning.\n",
        "\n",
        "Test Set: Confirms the model's ability to generalize to unseen data.\n",
        "#By splitting the data:\n",
        "\n",
        "We avoid overfitting and ensure the model performs well on new data.\n",
        "\n",
        "We can fairly evaluate the model's robustness.\n"
      ],
      "metadata": {
        "id": "a-hx2RfLg0ab"
      }
    },
    {
      "cell_type": "markdown",
      "source": [
        "### Q7"
      ],
      "metadata": {
        "id": "l4sDf7bKg0dP"
      }
    },
    {
      "cell_type": "markdown",
      "source": [
        "#Unsupervised Learning for Anomaly Detection\n",
        "Unsupervised learning is highly effective for anomaly detection, as it does not require labeled data. Instead, it identifies patterns and structures within the data and detects deviations that do not conform to these patterns, which are flagged as anomalies.\n",
        "\n",
        "#How It Works:\n",
        "Pattern Learning:\n",
        "The algorithm learns the underlying distribution or clusters of the normal data points.\n",
        "\n",
        "Outlier Detection:\n",
        "Data points that do not fit into these learned patterns or clusters are treated as anomalies.\n"
      ],
      "metadata": {
        "id": "nEs2gOqXg0gt"
      }
    },
    {
      "cell_type": "markdown",
      "source": [
        "#Methods Used:\n",
        "#Clustering-Based:\n",
        "\n",
        "Group similar data; outliers far from clusters are anomalies.\n",
        "\n",
        "Algorithms: K-Means, DBSCAN.\n",
        "\n",
        "Example: Detect unusual customer transactions.\n",
        "#Density-Based:\n",
        "\n",
        "Low-density points are anomalies.\n",
        "\n",
        "Algorithms: Isolation Forest, LOF.\n",
        "\n",
        "Example: Fraud detection in credit card usage.\n",
        "#Dimensionality Reduction:\n",
        "\n",
        "Reduce data dimensions; outliers have high reconstruction errors.\n",
        "\n",
        "Algorithms: PCA, Autoencoders.\n",
        "\n",
        "Example: Spot unusual network traffic.\n",
        "#Statistical Methods:\n",
        "\n",
        "Use thresholds to identify outliers.\n",
        "\n",
        "Examples: Z-Score, GMM.\n",
        "\n",
        "Example: Detect abnormal energy usage.\n",
        "#Applications:\n",
        "Fraud Detection: Banking, retail.\n",
        "\n",
        "Network Security: Abnormal traffic.\n",
        "\n",
        "Healthcare: Unusual vitals or patterns.\n",
        "\n",
        "Manufacturing: Machinery defects.\n",
        "#Advantages:\n",
        "Works without labeled data.\n",
        "\n",
        "Scalable to large datasets.\n",
        "#Limitations:\n",
        "High false positives.\n",
        "\n",
        "May struggle with noisy or imbalanced data.\n",
        "\n",
        "Unsupervised learning is highly versatile for anomaly detection across domains."
      ],
      "metadata": {
        "id": "IZnl8RZMhyfx"
      }
    },
    {
      "cell_type": "markdown",
      "source": [
        "### Q8"
      ],
      "metadata": {
        "id": "siUhzwz5hyif"
      }
    },
    {
      "cell_type": "markdown",
      "source": [
        "#Commonly Used Supervised Learning Algorithms\n",
        "#Linear Models:\n",
        "\n",
        "Linear Regression\n",
        "\n",
        "Logistic Regression\n",
        "\n",
        "#Decision Trees and Ensembles:\n",
        "\n",
        "Decision Tree\n",
        "\n",
        "Random Forest\n",
        "\n",
        "Gradient Boosting (e.g., XGBoost, LightGBM, CatBoost)\n",
        "\n",
        "Support Vector Machines (SVM)\n",
        "\n",
        "#Neural Networks:\n",
        "\n",
        "Multi-Layer Perceptrons (MLPs)\n",
        "\n",
        "Convolutional Neural Networks (CNNs)\n",
        "\n",
        "Recurrent Neural Networks (RNNs)\n",
        "#Bayesian Algorithms:\n",
        "\n",
        "Naïve Bayes\n",
        "\n",
        "Bayesian Networks\n",
        "\n",
        "k-Nearest Neighbors (k-NN)\n",
        "\n",
        "#Commonly Used Unsupervised Learning Algorithms\n",
        "#Clustering:\n",
        "\n",
        "K-Means Clustering\n",
        "\n",
        "DBSCAN (Density-Based Spatial Clustering of Applications with Noise)\n",
        "\n",
        "Hierarchical Clustering\n",
        "#Dimensionality Reduction:\n",
        "\n",
        "Principal Component Analysis (PCA)\n",
        "\n",
        "t-SNE (t-Distributed Stochastic Neighbor Embedding)\n",
        "\n",
        "UMAP (Uniform Manifold Approximation and Projection)\n",
        "#Density-Based:\n",
        "\n",
        "Gaussian Mixture Models (GMM)\n",
        "\n",
        "Isolation Forest\n",
        "\n",
        "#Association Rule Mining:\n",
        "\n",
        "Apriori Algorithm\n",
        "\n",
        "Eclat Algorithm\n",
        "\n",
        "Autoencoders (Neural Networks)\n",
        "\n",
        "Self-Organizing Maps (SOMs)"
      ],
      "metadata": {
        "id": "FMMx_7QUhylc"
      }
    },
    {
      "cell_type": "markdown",
      "source": [],
      "metadata": {
        "id": "lOzOd6hThyoM"
      }
    },
    {
      "cell_type": "markdown",
      "source": [],
      "metadata": {
        "id": "u80u0qAfhyrW"
      }
    }
  ]
}